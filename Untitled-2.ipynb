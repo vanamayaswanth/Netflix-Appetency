{
 "cells": [
  {
   "cell_type": "code",
   "execution_count": 1,
   "metadata": {},
   "outputs": [],
   "source": [
    "import numpy as np\n",
    "\n",
    "import pandas as pd\n"
   ]
  },
  {
   "cell_type": "code",
   "execution_count": 2,
   "metadata": {},
   "outputs": [],
   "source": [
    "data=pd.read_csv(\"train.csv\")"
   ]
  },
  {
   "cell_type": "code",
   "execution_count": 3,
   "metadata": {},
   "outputs": [],
   "source": [
    "data1=data.copy(deep=True)"
   ]
  },
  {
   "cell_type": "code",
   "execution_count": 4,
   "metadata": {},
   "outputs": [
    {
     "data": {
      "text/html": [
       "<div>\n",
       "<style scoped>\n",
       "    .dataframe tbody tr th:only-of-type {\n",
       "        vertical-align: middle;\n",
       "    }\n",
       "\n",
       "    .dataframe tbody tr th {\n",
       "        vertical-align: top;\n",
       "    }\n",
       "\n",
       "    .dataframe thead th {\n",
       "        text-align: right;\n",
       "    }\n",
       "</style>\n",
       "<table border=\"1\" class=\"dataframe\">\n",
       "  <thead>\n",
       "    <tr style=\"text-align: right;\">\n",
       "      <th></th>\n",
       "      <th>id</th>\n",
       "      <th>target</th>\n",
       "      <th>feature_0</th>\n",
       "      <th>feature_1</th>\n",
       "      <th>feature_2</th>\n",
       "      <th>feature_3</th>\n",
       "      <th>feature_4</th>\n",
       "      <th>feature_5</th>\n",
       "      <th>feature_6</th>\n",
       "      <th>feature_7</th>\n",
       "      <th>...</th>\n",
       "      <th>feature_497</th>\n",
       "      <th>feature_498</th>\n",
       "      <th>feature_499</th>\n",
       "      <th>feature_500</th>\n",
       "      <th>feature_501</th>\n",
       "      <th>feature_502</th>\n",
       "      <th>feature_503</th>\n",
       "      <th>feature_504</th>\n",
       "      <th>feature_505</th>\n",
       "      <th>feature_506</th>\n",
       "    </tr>\n",
       "  </thead>\n",
       "  <tbody>\n",
       "    <tr>\n",
       "      <th>0</th>\n",
       "      <td>0</td>\n",
       "      <td>0</td>\n",
       "      <td>C0</td>\n",
       "      <td>C0</td>\n",
       "      <td>C1</td>\n",
       "      <td>C5</td>\n",
       "      <td>C11</td>\n",
       "      <td>37.56</td>\n",
       "      <td>54.756667</td>\n",
       "      <td>54.756667</td>\n",
       "      <td>...</td>\n",
       "      <td>0</td>\n",
       "      <td>0</td>\n",
       "      <td>0</td>\n",
       "      <td>0</td>\n",
       "      <td>0</td>\n",
       "      <td>0</td>\n",
       "      <td>0</td>\n",
       "      <td>0</td>\n",
       "      <td>0</td>\n",
       "      <td>0</td>\n",
       "    </tr>\n",
       "    <tr>\n",
       "      <th>1</th>\n",
       "      <td>1</td>\n",
       "      <td>0</td>\n",
       "      <td>C0</td>\n",
       "      <td>C0</td>\n",
       "      <td>C3</td>\n",
       "      <td>C5</td>\n",
       "      <td>C1</td>\n",
       "      <td>NaN</td>\n",
       "      <td>NaN</td>\n",
       "      <td>NaN</td>\n",
       "      <td>...</td>\n",
       "      <td>0</td>\n",
       "      <td>0</td>\n",
       "      <td>0</td>\n",
       "      <td>0</td>\n",
       "      <td>0</td>\n",
       "      <td>0</td>\n",
       "      <td>0</td>\n",
       "      <td>0</td>\n",
       "      <td>0</td>\n",
       "      <td>0</td>\n",
       "    </tr>\n",
       "    <tr>\n",
       "      <th>2</th>\n",
       "      <td>2</td>\n",
       "      <td>0</td>\n",
       "      <td>C0</td>\n",
       "      <td>C0</td>\n",
       "      <td>C3</td>\n",
       "      <td>C5</td>\n",
       "      <td>C2</td>\n",
       "      <td>NaN</td>\n",
       "      <td>NaN</td>\n",
       "      <td>NaN</td>\n",
       "      <td>...</td>\n",
       "      <td>0</td>\n",
       "      <td>0</td>\n",
       "      <td>0</td>\n",
       "      <td>0</td>\n",
       "      <td>0</td>\n",
       "      <td>0</td>\n",
       "      <td>0</td>\n",
       "      <td>0</td>\n",
       "      <td>0</td>\n",
       "      <td>0</td>\n",
       "    </tr>\n",
       "    <tr>\n",
       "      <th>3</th>\n",
       "      <td>3</td>\n",
       "      <td>0</td>\n",
       "      <td>C0</td>\n",
       "      <td>C0</td>\n",
       "      <td>C1</td>\n",
       "      <td>C5</td>\n",
       "      <td>C1</td>\n",
       "      <td>NaN</td>\n",
       "      <td>NaN</td>\n",
       "      <td>NaN</td>\n",
       "      <td>...</td>\n",
       "      <td>0</td>\n",
       "      <td>0</td>\n",
       "      <td>0</td>\n",
       "      <td>0</td>\n",
       "      <td>0</td>\n",
       "      <td>0</td>\n",
       "      <td>0</td>\n",
       "      <td>0</td>\n",
       "      <td>0</td>\n",
       "      <td>0</td>\n",
       "    </tr>\n",
       "    <tr>\n",
       "      <th>4</th>\n",
       "      <td>4</td>\n",
       "      <td>1</td>\n",
       "      <td>C0</td>\n",
       "      <td>C0</td>\n",
       "      <td>C3</td>\n",
       "      <td>C3</td>\n",
       "      <td>C11</td>\n",
       "      <td>37.48</td>\n",
       "      <td>37.480000</td>\n",
       "      <td>37.161333</td>\n",
       "      <td>...</td>\n",
       "      <td>0</td>\n",
       "      <td>0</td>\n",
       "      <td>0</td>\n",
       "      <td>0</td>\n",
       "      <td>0</td>\n",
       "      <td>0</td>\n",
       "      <td>0</td>\n",
       "      <td>0</td>\n",
       "      <td>0</td>\n",
       "      <td>0</td>\n",
       "    </tr>\n",
       "  </tbody>\n",
       "</table>\n",
       "<p>5 rows × 509 columns</p>\n",
       "</div>"
      ],
      "text/plain": [
       "   id  target feature_0 feature_1 feature_2 feature_3 feature_4  feature_5  \\\n",
       "0   0       0        C0        C0        C1        C5       C11      37.56   \n",
       "1   1       0        C0        C0        C3        C5        C1        NaN   \n",
       "2   2       0        C0        C0        C3        C5        C2        NaN   \n",
       "3   3       0        C0        C0        C1        C5        C1        NaN   \n",
       "4   4       1        C0        C0        C3        C3       C11      37.48   \n",
       "\n",
       "   feature_6  feature_7  ...  feature_497  feature_498  feature_499  \\\n",
       "0  54.756667  54.756667  ...            0            0            0   \n",
       "1        NaN        NaN  ...            0            0            0   \n",
       "2        NaN        NaN  ...            0            0            0   \n",
       "3        NaN        NaN  ...            0            0            0   \n",
       "4  37.480000  37.161333  ...            0            0            0   \n",
       "\n",
       "   feature_500  feature_501  feature_502  feature_503  feature_504  \\\n",
       "0            0            0            0            0            0   \n",
       "1            0            0            0            0            0   \n",
       "2            0            0            0            0            0   \n",
       "3            0            0            0            0            0   \n",
       "4            0            0            0            0            0   \n",
       "\n",
       "  feature_505 feature_506  \n",
       "0           0           0  \n",
       "1           0           0  \n",
       "2           0           0  \n",
       "3           0           0  \n",
       "4           0           0  \n",
       "\n",
       "[5 rows x 509 columns]"
      ]
     },
     "execution_count": 4,
     "metadata": {},
     "output_type": "execute_result"
    }
   ],
   "source": [
    "data1.head()"
   ]
  },
  {
   "cell_type": "code",
   "execution_count": 5,
   "metadata": {},
   "outputs": [
    {
     "data": {
      "text/plain": [
       "id              int64\n",
       "target          int64\n",
       "feature_0      object\n",
       "feature_1      object\n",
       "feature_2      object\n",
       "                ...  \n",
       "feature_502     int64\n",
       "feature_503     int64\n",
       "feature_504     int64\n",
       "feature_505     int64\n",
       "feature_506     int64\n",
       "Length: 509, dtype: object"
      ]
     },
     "execution_count": 5,
     "metadata": {},
     "output_type": "execute_result"
    }
   ],
   "source": [
    "data1.dtypes"
   ]
  },
  {
   "cell_type": "code",
   "execution_count": 6,
   "metadata": {},
   "outputs": [
    {
     "data": {
      "text/plain": [
       "dtype('O')"
      ]
     },
     "execution_count": 6,
     "metadata": {},
     "output_type": "execute_result"
    }
   ],
   "source": [
    "data1[\"feature_3\"].dtype"
   ]
  },
  {
   "cell_type": "code",
   "execution_count": 7,
   "metadata": {},
   "outputs": [],
   "source": [
    "for i in data1.columns:\n",
    "    if type(data1[i].dtype) is np.int32:   \n",
    "        data1[i]=data1[i].astype(\"int64\")\n"
   ]
  },
  {
   "cell_type": "code",
   "execution_count": 8,
   "metadata": {},
   "outputs": [
    {
     "data": {
      "text/plain": [
       "id              int64\n",
       "target          int64\n",
       "feature_0      object\n",
       "feature_1      object\n",
       "feature_2      object\n",
       "                ...  \n",
       "feature_502     int64\n",
       "feature_503     int64\n",
       "feature_504     int64\n",
       "feature_505     int64\n",
       "feature_506     int64\n",
       "Length: 509, dtype: object"
      ]
     },
     "execution_count": 8,
     "metadata": {},
     "output_type": "execute_result"
    }
   ],
   "source": [
    "data1.dtypes"
   ]
  },
  {
   "cell_type": "code",
   "execution_count": 10,
   "metadata": {},
   "outputs": [],
   "source": [
    "from sklearn.preprocessing import LabelEncoder\n",
    "for i in data1.columns:\n",
    "    if data1[i].dtype=='object':\n",
    "        data1[i]=LabelEncoder().fit_transform(data1[i])\n",
    "        \n"
   ]
  },
  {
   "cell_type": "code",
   "execution_count": 11,
   "metadata": {},
   "outputs": [
    {
     "data": {
      "text/plain": [
       "id              int64\n",
       "target          int64\n",
       "feature_0      object\n",
       "feature_1      object\n",
       "feature_2      object\n",
       "                ...  \n",
       "feature_502     int64\n",
       "feature_503     int64\n",
       "feature_504     int64\n",
       "feature_505     int64\n",
       "feature_506     int64\n",
       "Length: 509, dtype: object"
      ]
     },
     "execution_count": 11,
     "metadata": {},
     "output_type": "execute_result"
    }
   ],
   "source": [
    "data.dtypes"
   ]
  },
  {
   "cell_type": "code",
   "execution_count": 16,
   "metadata": {},
   "outputs": [],
   "source": [
    "X=data1.drop(['target','feature_82','feature_199','feature_200','feature_201'],axis=1)"
   ]
  },
  {
   "cell_type": "code",
   "execution_count": 13,
   "metadata": {},
   "outputs": [],
   "source": [
    "y=data1['target']"
   ]
  },
  {
   "cell_type": "code",
   "execution_count": 14,
   "metadata": {},
   "outputs": [],
   "source": [
    "from sklearn.model_selection import train_test_split\n",
    "x_train,x_test,y_train,y_test=train_test_split(x,y,test_size=0.2,random_state=0)"
   ]
  },
  {
   "cell_type": "code",
   "execution_count": 18,
   "metadata": {},
   "outputs": [],
   "source": [
    "\n",
    "\n",
    "X_train,X_valid,y_train,y_valid = train_test_split(X, y, test_size=0.33,random_state=18)"
   ]
  },
  {
   "cell_type": "code",
   "execution_count": 20,
   "metadata": {},
   "outputs": [],
   "source": [
    "\n",
    "\n",
    "from catboost import CatBoostClassifier\n",
    "\n",
    "\n",
    "CATBOOST = CatBoostClassifier(subsample=0.50,learning_rate=0.03,max_depth=6,min_data_in_leaf=50,colsample_bylevel=0.5,random_state=42,num_boost_round=2500,l2_leaf_reg=1.0,eval_metric='AUC')\n"
   ]
  },
  {
   "cell_type": "code",
   "execution_count": 21,
   "metadata": {},
   "outputs": [],
   "source": [
    "from sklearn.metrics import roc_auc_score\n",
    "def get_val_score(model):\n",
    "    val_pred = model.predict_proba(X_valid)\n",
    "    return roc_auc_score(y_valid,val_pred[:,1])"
   ]
  },
  {
   "cell_type": "code",
   "execution_count": 22,
   "metadata": {},
   "outputs": [
    {
     "name": "stdout",
     "output_type": "stream",
     "text": [
      "0:\ttest: 0.7247283\tbest: 0.7247283 (0)\ttotal: 249ms\tremaining: 10m 21s\n",
      "100:\ttest: 0.7727256\tbest: 0.7727256 (100)\ttotal: 4.64s\tremaining: 1m 50s\n",
      "200:\ttest: 0.7780631\tbest: 0.7780631 (200)\ttotal: 8.6s\tremaining: 1m 38s\n",
      "300:\ttest: 0.7802355\tbest: 0.7802355 (300)\ttotal: 12.7s\tremaining: 1m 32s\n",
      "400:\ttest: 0.7815840\tbest: 0.7815840 (400)\ttotal: 16.6s\tremaining: 1m 26s\n",
      "500:\ttest: 0.7821700\tbest: 0.7821876 (498)\ttotal: 21.1s\tremaining: 1m 24s\n",
      "600:\ttest: 0.7826607\tbest: 0.7826852 (598)\ttotal: 25.7s\tremaining: 1m 21s\n",
      "700:\ttest: 0.7828746\tbest: 0.7830312 (650)\ttotal: 31s\tremaining: 1m 19s\n",
      "800:\ttest: 0.7829015\tbest: 0.7830312 (650)\ttotal: 35.9s\tremaining: 1m 16s\n",
      "Stopped by overfitting detector  (200 iterations wait)\n",
      "\n",
      "bestTest = 0.7830311559\n",
      "bestIteration = 650\n",
      "\n",
      "Shrink model to first 651 iterations.\n",
      "====================\n",
      " Validation AUC :  0.7830311559374137\n"
     ]
    }
   ],
   "source": [
    "\n",
    "CATBOOST.fit(X_train,y_train,\n",
    "         eval_set=[(X_valid, y_valid)],\n",
    "         early_stopping_rounds=200,verbose=100)\n",
    "\n",
    "print(\"=\"*20)\n",
    "print(\" Validation AUC : \", get_val_score(CATBOOST))"
   ]
  },
  {
   "cell_type": "code",
   "execution_count": null,
   "metadata": {},
   "outputs": [],
   "source": [
    "data2=pd.read_csv(\"test.csv\")"
   ]
  },
  {
   "cell_type": "code",
   "execution_count": null,
   "metadata": {},
   "outputs": [
    {
     "data": {
      "text/plain": [
       "id              int64\n",
       "feature_0      object\n",
       "feature_1      object\n",
       "feature_2      object\n",
       "feature_3      object\n",
       "                ...  \n",
       "feature_502     int64\n",
       "feature_503     int64\n",
       "feature_504     int64\n",
       "feature_505     int64\n",
       "feature_506     int64\n",
       "Length: 508, dtype: object"
      ]
     },
     "execution_count": 32,
     "metadata": {},
     "output_type": "execute_result"
    }
   ],
   "source": [
    "data2.dtypes"
   ]
  },
  {
   "cell_type": "code",
   "execution_count": null,
   "metadata": {},
   "outputs": [],
   "source": [
    "from sklearn.preprocessing import LabelEncoder\n",
    "for i in data2.columns:\n",
    "    if data2[i].dtype=='object':\n",
    "        data2[i]=LabelEncoder().fit_transform(data2[i])\n",
    "        "
   ]
  },
  {
   "cell_type": "code",
   "execution_count": null,
   "metadata": {},
   "outputs": [],
   "source": [
    "for i in data2.columns:\n",
    "    if type(data2[i].dtype) is np.int32:   \n",
    "        data2[i]=data2[i].astype(\"int64\")"
   ]
  },
  {
   "cell_type": "code",
   "execution_count": null,
   "metadata": {},
   "outputs": [],
   "source": [
    "toDrop=['feature_82','feature_192','feature_199','feature_200','feature_201']"
   ]
  },
  {
   "cell_type": "code",
   "execution_count": null,
   "metadata": {},
   "outputs": [],
   "source": [
    "CATBOOST_pred=CATBOOST.predict_proba(data2.drop(toDrop,axis=1))\n"
   ]
  },
  {
   "cell_type": "code",
   "execution_count": null,
   "metadata": {},
   "outputs": [],
   "source": [
    "test_pred=pd.DataFrame(CATBOOST_pred[:,1])"
   ]
  },
  {
   "cell_type": "code",
   "execution_count": null,
   "metadata": {},
   "outputs": [
    {
     "data": {
      "text/html": [
       "<div>\n",
       "<style scoped>\n",
       "    .dataframe tbody tr th:only-of-type {\n",
       "        vertical-align: middle;\n",
       "    }\n",
       "\n",
       "    .dataframe tbody tr th {\n",
       "        vertical-align: top;\n",
       "    }\n",
       "\n",
       "    .dataframe thead th {\n",
       "        text-align: right;\n",
       "    }\n",
       "</style>\n",
       "<table border=\"1\" class=\"dataframe\">\n",
       "  <thead>\n",
       "    <tr style=\"text-align: right;\">\n",
       "      <th></th>\n",
       "      <th>0</th>\n",
       "    </tr>\n",
       "  </thead>\n",
       "  <tbody>\n",
       "    <tr>\n",
       "      <th>0</th>\n",
       "      <td>0.363197</td>\n",
       "    </tr>\n",
       "    <tr>\n",
       "      <th>1</th>\n",
       "      <td>0.282095</td>\n",
       "    </tr>\n",
       "    <tr>\n",
       "      <th>2</th>\n",
       "      <td>0.311430</td>\n",
       "    </tr>\n",
       "    <tr>\n",
       "      <th>3</th>\n",
       "      <td>0.119354</td>\n",
       "    </tr>\n",
       "    <tr>\n",
       "      <th>4</th>\n",
       "      <td>0.218037</td>\n",
       "    </tr>\n",
       "    <tr>\n",
       "      <th>...</th>\n",
       "      <td>...</td>\n",
       "    </tr>\n",
       "    <tr>\n",
       "      <th>29995</th>\n",
       "      <td>0.664203</td>\n",
       "    </tr>\n",
       "    <tr>\n",
       "      <th>29996</th>\n",
       "      <td>0.281250</td>\n",
       "    </tr>\n",
       "    <tr>\n",
       "      <th>29997</th>\n",
       "      <td>0.149023</td>\n",
       "    </tr>\n",
       "    <tr>\n",
       "      <th>29998</th>\n",
       "      <td>0.555616</td>\n",
       "    </tr>\n",
       "    <tr>\n",
       "      <th>29999</th>\n",
       "      <td>0.072739</td>\n",
       "    </tr>\n",
       "  </tbody>\n",
       "</table>\n",
       "<p>30000 rows × 1 columns</p>\n",
       "</div>"
      ],
      "text/plain": [
       "              0\n",
       "0      0.363197\n",
       "1      0.282095\n",
       "2      0.311430\n",
       "3      0.119354\n",
       "4      0.218037\n",
       "...         ...\n",
       "29995  0.664203\n",
       "29996  0.281250\n",
       "29997  0.149023\n",
       "29998  0.555616\n",
       "29999  0.072739\n",
       "\n",
       "[30000 rows x 1 columns]"
      ]
     },
     "execution_count": 38,
     "metadata": {},
     "output_type": "execute_result"
    }
   ],
   "source": [
    "test_pred"
   ]
  },
  {
   "cell_type": "code",
   "execution_count": null,
   "metadata": {},
   "outputs": [],
   "source": [
    "#sample submission\n",
    "submission=pd.read_csv(\"sample_submission.csv\")\n"
   ]
  },
  {
   "cell_type": "code",
   "execution_count": null,
   "metadata": {},
   "outputs": [
    {
     "data": {
      "text/html": [
       "<div>\n",
       "<style scoped>\n",
       "    .dataframe tbody tr th:only-of-type {\n",
       "        vertical-align: middle;\n",
       "    }\n",
       "\n",
       "    .dataframe tbody tr th {\n",
       "        vertical-align: top;\n",
       "    }\n",
       "\n",
       "    .dataframe thead th {\n",
       "        text-align: right;\n",
       "    }\n",
       "</style>\n",
       "<table border=\"1\" class=\"dataframe\">\n",
       "  <thead>\n",
       "    <tr style=\"text-align: right;\">\n",
       "      <th></th>\n",
       "      <th>id</th>\n",
       "      <th>target</th>\n",
       "    </tr>\n",
       "  </thead>\n",
       "  <tbody>\n",
       "    <tr>\n",
       "      <th>0</th>\n",
       "      <td>5</td>\n",
       "      <td>0.363197</td>\n",
       "    </tr>\n",
       "    <tr>\n",
       "      <th>1</th>\n",
       "      <td>7</td>\n",
       "      <td>0.282095</td>\n",
       "    </tr>\n",
       "    <tr>\n",
       "      <th>2</th>\n",
       "      <td>9</td>\n",
       "      <td>0.311430</td>\n",
       "    </tr>\n",
       "    <tr>\n",
       "      <th>3</th>\n",
       "      <td>11</td>\n",
       "      <td>0.119354</td>\n",
       "    </tr>\n",
       "    <tr>\n",
       "      <th>4</th>\n",
       "      <td>14</td>\n",
       "      <td>0.218037</td>\n",
       "    </tr>\n",
       "    <tr>\n",
       "      <th>5</th>\n",
       "      <td>15</td>\n",
       "      <td>0.241095</td>\n",
       "    </tr>\n",
       "    <tr>\n",
       "      <th>6</th>\n",
       "      <td>19</td>\n",
       "      <td>0.183638</td>\n",
       "    </tr>\n",
       "    <tr>\n",
       "      <th>7</th>\n",
       "      <td>21</td>\n",
       "      <td>0.115363</td>\n",
       "    </tr>\n",
       "    <tr>\n",
       "      <th>8</th>\n",
       "      <td>25</td>\n",
       "      <td>0.298517</td>\n",
       "    </tr>\n",
       "    <tr>\n",
       "      <th>9</th>\n",
       "      <td>29</td>\n",
       "      <td>0.139371</td>\n",
       "    </tr>\n",
       "  </tbody>\n",
       "</table>\n",
       "</div>"
      ],
      "text/plain": [
       "   id    target\n",
       "0   5  0.363197\n",
       "1   7  0.282095\n",
       "2   9  0.311430\n",
       "3  11  0.119354\n",
       "4  14  0.218037\n",
       "5  15  0.241095\n",
       "6  19  0.183638\n",
       "7  21  0.115363\n",
       "8  25  0.298517\n",
       "9  29  0.139371"
      ]
     },
     "execution_count": 41,
     "metadata": {},
     "output_type": "execute_result"
    }
   ],
   "source": [
    "submission['target']=test_pred\n",
    "submission.to_csv(\"submission2.csv\",index=False)\n",
    "submission.head(10)"
   ]
  },
  {
   "cell_type": "markdown",
   "metadata": {},
   "source": [
    "#Thankyou"
   ]
  }
 ],
 "metadata": {
  "interpreter": {
   "hash": "6cee36fcf8f2c01b6c80955a3b277d992f092a0cdaa217af3caa735b8b0f1606"
  },
  "kernelspec": {
   "display_name": "Python 3.6.13 ('gr')",
   "language": "python",
   "name": "python3"
  },
  "language_info": {
   "codemirror_mode": {
    "name": "ipython",
    "version": 3
   },
   "file_extension": ".py",
   "mimetype": "text/x-python",
   "name": "python",
   "nbconvert_exporter": "python",
   "pygments_lexer": "ipython3",
   "version": "3.6.13"
  },
  "orig_nbformat": 4
 },
 "nbformat": 4,
 "nbformat_minor": 2
}
